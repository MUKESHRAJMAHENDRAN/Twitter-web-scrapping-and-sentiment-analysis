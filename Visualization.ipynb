{
 "cells": [
  {
   "cell_type": "markdown",
   "id": "4c9b9914",
   "metadata": {},
   "source": [
    "# Data preparation for visualization"
   ]
  },
  {
   "cell_type": "code",
   "execution_count": 1,
   "id": "1212089a",
   "metadata": {},
   "outputs": [],
   "source": [
    "import pandas as pd\n",
    "import matplotlib.pyplot as plt\n",
    "import seaborn as sns\n",
    "import plotly.express as px\n",
    "%matplotlib inline"
   ]
  },
  {
   "cell_type": "code",
   "execution_count": 2,
   "id": "3c96bcc6",
   "metadata": {},
   "outputs": [
    {
     "data": {
      "text/html": [
       "<div>\n",
       "<style scoped>\n",
       "    .dataframe tbody tr th:only-of-type {\n",
       "        vertical-align: middle;\n",
       "    }\n",
       "\n",
       "    .dataframe tbody tr th {\n",
       "        vertical-align: top;\n",
       "    }\n",
       "\n",
       "    .dataframe thead th {\n",
       "        text-align: right;\n",
       "    }\n",
       "</style>\n",
       "<table border=\"1\" class=\"dataframe\">\n",
       "  <thead>\n",
       "    <tr style=\"text-align: right;\">\n",
       "      <th></th>\n",
       "      <th>Datetime</th>\n",
       "      <th>Tweet Id</th>\n",
       "      <th>Name</th>\n",
       "      <th>tweet</th>\n",
       "      <th>sentiment</th>\n",
       "    </tr>\n",
       "  </thead>\n",
       "  <tbody>\n",
       "    <tr>\n",
       "      <th>0</th>\n",
       "      <td>2021-12-26 23:59:58+00:00</td>\n",
       "      <td>1475255097483579402</td>\n",
       "      <td>JSOH13597</td>\n",
       "      <td>If you are buying shirts on eBay avoid this se...</td>\n",
       "      <td>1</td>\n",
       "    </tr>\n",
       "    <tr>\n",
       "      <th>1</th>\n",
       "      <td>2021-12-26 23:59:58+00:00</td>\n",
       "      <td>1475255095730348032</td>\n",
       "      <td>SACellPhonesPro</td>\n",
       "      <td>3-in-1 Charging Dock for Phone, Apple Watch &amp;a...</td>\n",
       "      <td>5</td>\n",
       "    </tr>\n",
       "    <tr>\n",
       "      <th>2</th>\n",
       "      <td>2021-12-26 23:59:54+00:00</td>\n",
       "      <td>1475255078537863171</td>\n",
       "      <td>primitivebowls</td>\n",
       "      <td>Check out BIG DAIRY Milking COW Wall PICTURE*P...</td>\n",
       "      <td>4</td>\n",
       "    </tr>\n",
       "    <tr>\n",
       "      <th>3</th>\n",
       "      <td>2021-12-26 23:59:48+00:00</td>\n",
       "      <td>1475255055980843008</td>\n",
       "      <td>StagnoAmanda</td>\n",
       "      <td>Look what I found on ! via</td>\n",
       "      <td>5</td>\n",
       "    </tr>\n",
       "    <tr>\n",
       "      <th>4</th>\n",
       "      <td>2021-12-26 23:59:48+00:00</td>\n",
       "      <td>1475255053657247748</td>\n",
       "      <td>BenBestDeals</td>\n",
       "      <td>Universal Nutrition Buffered Vitamin C Pills 1...</td>\n",
       "      <td>5</td>\n",
       "    </tr>\n",
       "  </tbody>\n",
       "</table>\n",
       "</div>"
      ],
      "text/plain": [
       "                    Datetime             Tweet Id             Name  \\\n",
       "0  2021-12-26 23:59:58+00:00  1475255097483579402        JSOH13597   \n",
       "1  2021-12-26 23:59:58+00:00  1475255095730348032  SACellPhonesPro   \n",
       "2  2021-12-26 23:59:54+00:00  1475255078537863171   primitivebowls   \n",
       "3  2021-12-26 23:59:48+00:00  1475255055980843008     StagnoAmanda   \n",
       "4  2021-12-26 23:59:48+00:00  1475255053657247748     BenBestDeals   \n",
       "\n",
       "                                               tweet  sentiment  \n",
       "0  If you are buying shirts on eBay avoid this se...          1  \n",
       "1  3-in-1 Charging Dock for Phone, Apple Watch &a...          5  \n",
       "2  Check out BIG DAIRY Milking COW Wall PICTURE*P...          4  \n",
       "3                         Look what I found on ! via          5  \n",
       "4  Universal Nutrition Buffered Vitamin C Pills 1...          5  "
      ]
     },
     "execution_count": 2,
     "metadata": {},
     "output_type": "execute_result"
    }
   ],
   "source": [
    "df = pd.read_csv(\"Sentiment_added.csv\")\n",
    "df.head()"
   ]
  },
  {
   "cell_type": "code",
   "execution_count": 3,
   "id": "c51c2d24",
   "metadata": {},
   "outputs": [
    {
     "data": {
      "text/plain": [
       "5    11821\n",
       "1     9217\n",
       "2     3856\n",
       "3     3048\n",
       "4     2844\n",
       "Name: sentiment, dtype: int64"
      ]
     },
     "execution_count": 3,
     "metadata": {},
     "output_type": "execute_result"
    }
   ],
   "source": [
    "df.sentiment.value_counts()"
   ]
  },
  {
   "cell_type": "code",
   "execution_count": 4,
   "id": "196262d5",
   "metadata": {},
   "outputs": [
    {
     "data": {
      "text/plain": [
       "5    11821\n",
       "1     9217\n",
       "2     3856\n",
       "3     3048\n",
       "4     2844\n",
       "Name: sentiment, dtype: int64"
      ]
     },
     "execution_count": 4,
     "metadata": {},
     "output_type": "execute_result"
    }
   ],
   "source": [
    "graph = df.sentiment.value_counts()\n",
    "graph"
   ]
  },
  {
   "cell_type": "markdown",
   "id": "6b10b165",
   "metadata": {},
   "source": [
    "### Data visualization"
   ]
  },
  {
   "cell_type": "code",
   "execution_count": 5,
   "id": "40999f04",
   "metadata": {},
   "outputs": [
    {
     "data": {
      "image/png": "[encoded data removed]",
      "text/plain": [
       "<Figure size 864x432 with 1 Axes>"
      ]
     },
     "metadata": {
      "needs_background": "light"
     },
     "output_type": "display_data"
    }
   ],
   "source": [
    "graph.plot(kind = \"bar\", color = [\"purple\", \"salmon\", \"slategrey\", \"pink\", \"slateblue\"], figsize =(12,6))\n",
    "plt.title(\"Online shopping reveiws\")\n",
    "plt.xlabel(\"Ratings\")\n",
    "plt.ylabel(\"Count\")\n",
    "plt.xticks(rotation=0);"
   ]
  },
  {
   "cell_type": "markdown",
   "id": "7cef4893",
   "metadata": {},
   "source": [
    "From the above diagram we conclude almost majority of categories of online retailers fall under either good or poor"
   ]
  }
 ],
 "metadata": {
  "kernelspec": {
   "display_name": "Python 3",
   "language": "python",
   "name": "python3"
  },
  "language_info": {
   "codemirror_mode": {
    "name": "ipython",
    "version": 3
   },
   "file_extension": ".py",
   "mimetype": "text/x-python",
   "name": "python",
   "nbconvert_exporter": "python",
   "pygments_lexer": "ipython3",
   "version": "3.8.8"
  }
 },
 "nbformat": 4,
 "nbformat_minor": 5
}
