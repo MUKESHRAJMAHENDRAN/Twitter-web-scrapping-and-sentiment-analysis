{
 "cells": [
  {
   "cell_type": "markdown",
   "id": "2705433c",
   "metadata": {},
   "source": [
    "# Sentiment Analysis of tweets using Natural Language Processing(NLP)"
   ]
  },
  {
   "cell_type": "markdown",
   "id": "24ae8c02",
   "metadata": {},
   "source": [
    "Importing the important libraries. And loading the data which was scrapped in the twitter with respect to online retailers."
   ]
  },
  {
   "cell_type": "code",
   "execution_count": 1,
   "id": "671edec0",
   "metadata": {},
   "outputs": [
    {
     "data": {
      "text/html": [
       "<div>\n",
       "<style scoped>\n",
       "    .dataframe tbody tr th:only-of-type {\n",
       "        vertical-align: middle;\n",
       "    }\n",
       "\n",
       "    .dataframe tbody tr th {\n",
       "        vertical-align: top;\n",
       "    }\n",
       "\n",
       "    .dataframe thead th {\n",
       "        text-align: right;\n",
       "    }\n",
       "</style>\n",
       "<table border=\"1\" class=\"dataframe\">\n",
       "  <thead>\n",
       "    <tr style=\"text-align: right;\">\n",
       "      <th></th>\n",
       "      <th>Datetime</th>\n",
       "      <th>Tweet Id</th>\n",
       "      <th>Name</th>\n",
       "      <th>tweet</th>\n",
       "    </tr>\n",
       "  </thead>\n",
       "  <tbody>\n",
       "    <tr>\n",
       "      <th>0</th>\n",
       "      <td>2021-12-26 23:59:58+00:00</td>\n",
       "      <td>1475255097483579402</td>\n",
       "      <td>JSOH13597</td>\n",
       "      <td>If you are buying shirts on eBay avoid this se...</td>\n",
       "    </tr>\n",
       "    <tr>\n",
       "      <th>1</th>\n",
       "      <td>2021-12-26 23:59:58+00:00</td>\n",
       "      <td>1475255095730348032</td>\n",
       "      <td>SACellPhonesPro</td>\n",
       "      <td>3-in-1 Charging Dock for Phone, Apple Watch &amp;a...</td>\n",
       "    </tr>\n",
       "    <tr>\n",
       "      <th>2</th>\n",
       "      <td>2021-12-26 23:59:54+00:00</td>\n",
       "      <td>1475255078537863171</td>\n",
       "      <td>primitivebowls</td>\n",
       "      <td>Check out BIG DAIRY Milking COW Wall PICTURE*P...</td>\n",
       "    </tr>\n",
       "    <tr>\n",
       "      <th>3</th>\n",
       "      <td>2021-12-26 23:59:48+00:00</td>\n",
       "      <td>1475255055980843008</td>\n",
       "      <td>StagnoAmanda</td>\n",
       "      <td>Look what I found on @eBay! https://t.co/wQPB5...</td>\n",
       "    </tr>\n",
       "    <tr>\n",
       "      <th>4</th>\n",
       "      <td>2021-12-26 23:59:48+00:00</td>\n",
       "      <td>1475255053657247748</td>\n",
       "      <td>BenBestDeals</td>\n",
       "      <td>Universal Nutrition Buffered Vitamin C Pills 1...</td>\n",
       "    </tr>\n",
       "    <tr>\n",
       "      <th>5</th>\n",
       "      <td>2021-12-26 23:59:45+00:00</td>\n",
       "      <td>1475255041116323844</td>\n",
       "      <td>tsukiisms</td>\n",
       "      <td>@puppyboylix mwah! also literally drop shipper...</td>\n",
       "    </tr>\n",
       "    <tr>\n",
       "      <th>6</th>\n",
       "      <td>2021-12-26 23:59:33+00:00</td>\n",
       "      <td>1475254992252850178</td>\n",
       "      <td>koolest77</td>\n",
       "      <td>New Listing! Code Geass Lelouch of the Rebelli...</td>\n",
       "    </tr>\n",
       "    <tr>\n",
       "      <th>7</th>\n",
       "      <td>2021-12-26 23:59:33+00:00</td>\n",
       "      <td>1475254990855974917</td>\n",
       "      <td>Lisasebaystore</td>\n",
       "      <td>Check out Vintage Amber Glass Candy Nut Dish S...</td>\n",
       "    </tr>\n",
       "    <tr>\n",
       "      <th>8</th>\n",
       "      <td>2021-12-26 23:59:31+00:00</td>\n",
       "      <td>1475254982270230532</td>\n",
       "      <td>MMBSports</td>\n",
       "      <td>Check out 1992 Pacific Detroit Lions Dan Owens...</td>\n",
       "    </tr>\n",
       "    <tr>\n",
       "      <th>9</th>\n",
       "      <td>2021-12-26 23:59:26+00:00</td>\n",
       "      <td>1475254963077066762</td>\n",
       "      <td>GHCardSales</td>\n",
       "      <td>Next up are a couple of pickups from eBay! Rea...</td>\n",
       "    </tr>\n",
       "  </tbody>\n",
       "</table>\n",
       "</div>"
      ],
      "text/plain": [
       "                    Datetime             Tweet Id             Name  \\\n",
       "0  2021-12-26 23:59:58+00:00  1475255097483579402        JSOH13597   \n",
       "1  2021-12-26 23:59:58+00:00  1475255095730348032  SACellPhonesPro   \n",
       "2  2021-12-26 23:59:54+00:00  1475255078537863171   primitivebowls   \n",
       "3  2021-12-26 23:59:48+00:00  1475255055980843008     StagnoAmanda   \n",
       "4  2021-12-26 23:59:48+00:00  1475255053657247748     BenBestDeals   \n",
       "5  2021-12-26 23:59:45+00:00  1475255041116323844        tsukiisms   \n",
       "6  2021-12-26 23:59:33+00:00  1475254992252850178        koolest77   \n",
       "7  2021-12-26 23:59:33+00:00  1475254990855974917   Lisasebaystore   \n",
       "8  2021-12-26 23:59:31+00:00  1475254982270230532        MMBSports   \n",
       "9  2021-12-26 23:59:26+00:00  1475254963077066762      GHCardSales   \n",
       "\n",
       "                                               tweet  \n",
       "0  If you are buying shirts on eBay avoid this se...  \n",
       "1  3-in-1 Charging Dock for Phone, Apple Watch &a...  \n",
       "2  Check out BIG DAIRY Milking COW Wall PICTURE*P...  \n",
       "3  Look what I found on @eBay! https://t.co/wQPB5...  \n",
       "4  Universal Nutrition Buffered Vitamin C Pills 1...  \n",
       "5  @puppyboylix mwah! also literally drop shipper...  \n",
       "6  New Listing! Code Geass Lelouch of the Rebelli...  \n",
       "7  Check out Vintage Amber Glass Candy Nut Dish S...  \n",
       "8  Check out 1992 Pacific Detroit Lions Dan Owens...  \n",
       "9  Next up are a couple of pickups from eBay! Rea...  "
      ]
     },
     "execution_count": 1,
     "metadata": {},
     "output_type": "execute_result"
    }
   ],
   "source": [
    "import pandas as pd \n",
    "df = pd.read_csv(\"Twitter_Retailer_data.csv\")\n",
    "df.head(10)"
   ]
  },
  {
   "cell_type": "markdown",
   "id": "e19e5bf3",
   "metadata": {},
   "source": [
    "Extracting the tweets with respect to online Retailers...."
   ]
  },
  {
   "cell_type": "code",
   "execution_count": 2,
   "id": "c5dbf679",
   "metadata": {},
   "outputs": [
    {
     "data": {
      "text/plain": [
       "0        If you are buying shirts on eBay avoid this se...\n",
       "1        3-in-1 Charging Dock for Phone, Apple Watch &a...\n",
       "2        Check out BIG DAIRY Milking COW Wall PICTURE*P...\n",
       "3        Look what I found on @eBay! https://t.co/wQPB5...\n",
       "4        Universal Nutrition Buffered Vitamin C Pills 1...\n",
       "                               ...                        \n",
       "30977    @Meesho_Official Order I'd #5190930308. please...\n",
       "30978    @Meesho_Official #meeshosupport #meeshoteam u ...\n",
       "30979    @Meesho_Official #Meeshoteam #Meeshosupport #M...\n",
       "30980    hello Meesho Supoort\\n\\ni have buy sum product...\n",
       "30981    @meeshoapp \\n@meeshosupport\\n@ceomeesho\\n\\nMee...\n",
       "Name: tweet, Length: 30982, dtype: object"
      ]
     },
     "execution_count": 2,
     "metadata": {},
     "output_type": "execute_result"
    }
   ],
   "source": [
    "df[\"tweet\"]"
   ]
  },
  {
   "cell_type": "markdown",
   "id": "dc838a51",
   "metadata": {},
   "source": [
    "## Data cleaning"
   ]
  },
  {
   "cell_type": "markdown",
   "id": "0e101ca1",
   "metadata": {},
   "source": [
    "Tweets contains so much of links,@,#,etc. Once we clean we will predict the reviewer ratings.."
   ]
  },
  {
   "cell_type": "code",
   "execution_count": 3,
   "id": "7234f246",
   "metadata": {},
   "outputs": [],
   "source": [
    "import re\n",
    "def cleaner(tweet):\n",
    "    tweet = re.sub(\"@[A-Za-z0-9]+\",\"\",tweet) #Remove @ sign\n",
    "    tweet = re.sub(r\"(?:\\@|http?\\://|https?\\://|www)\\S+\", \"\", tweet) #Remove http links\n",
    "    tweet = \" \".join(tweet.split())\n",
    "    tweet = tweet.replace(\"#\", \"\").replace(\"_\", \" \") #Remove hashtag sign but keep the text\n",
    "    return tweet\n",
    "df['tweet'] = df['tweet'].map(lambda x: cleaner(x))\n",
    "df.to_csv('clean.csv', index = False) #specify location"
   ]
  },
  {
   "cell_type": "code",
   "execution_count": 4,
   "id": "fce23270",
   "metadata": {},
   "outputs": [
    {
     "data": {
      "text/html": [
       "<div>\n",
       "<style scoped>\n",
       "    .dataframe tbody tr th:only-of-type {\n",
       "        vertical-align: middle;\n",
       "    }\n",
       "\n",
       "    .dataframe tbody tr th {\n",
       "        vertical-align: top;\n",
       "    }\n",
       "\n",
       "    .dataframe thead th {\n",
       "        text-align: right;\n",
       "    }\n",
       "</style>\n",
       "<table border=\"1\" class=\"dataframe\">\n",
       "  <thead>\n",
       "    <tr style=\"text-align: right;\">\n",
       "      <th></th>\n",
       "      <th>Datetime</th>\n",
       "      <th>Tweet Id</th>\n",
       "      <th>Name</th>\n",
       "      <th>tweet</th>\n",
       "    </tr>\n",
       "  </thead>\n",
       "  <tbody>\n",
       "    <tr>\n",
       "      <th>0</th>\n",
       "      <td>2021-12-26 23:59:58+00:00</td>\n",
       "      <td>1475255097483579402</td>\n",
       "      <td>JSOH13597</td>\n",
       "      <td>If you are buying shirts on eBay avoid this se...</td>\n",
       "    </tr>\n",
       "    <tr>\n",
       "      <th>1</th>\n",
       "      <td>2021-12-26 23:59:58+00:00</td>\n",
       "      <td>1475255095730348032</td>\n",
       "      <td>SACellPhonesPro</td>\n",
       "      <td>3-in-1 Charging Dock for Phone, Apple Watch &amp;a...</td>\n",
       "    </tr>\n",
       "    <tr>\n",
       "      <th>2</th>\n",
       "      <td>2021-12-26 23:59:54+00:00</td>\n",
       "      <td>1475255078537863171</td>\n",
       "      <td>primitivebowls</td>\n",
       "      <td>Check out BIG DAIRY Milking COW Wall PICTURE*P...</td>\n",
       "    </tr>\n",
       "    <tr>\n",
       "      <th>3</th>\n",
       "      <td>2021-12-26 23:59:48+00:00</td>\n",
       "      <td>1475255055980843008</td>\n",
       "      <td>StagnoAmanda</td>\n",
       "      <td>Look what I found on ! via</td>\n",
       "    </tr>\n",
       "    <tr>\n",
       "      <th>4</th>\n",
       "      <td>2021-12-26 23:59:48+00:00</td>\n",
       "      <td>1475255053657247748</td>\n",
       "      <td>BenBestDeals</td>\n",
       "      <td>Universal Nutrition Buffered Vitamin C Pills 1...</td>\n",
       "    </tr>\n",
       "  </tbody>\n",
       "</table>\n",
       "</div>"
      ],
      "text/plain": [
       "                    Datetime             Tweet Id             Name  \\\n",
       "0  2021-12-26 23:59:58+00:00  1475255097483579402        JSOH13597   \n",
       "1  2021-12-26 23:59:58+00:00  1475255095730348032  SACellPhonesPro   \n",
       "2  2021-12-26 23:59:54+00:00  1475255078537863171   primitivebowls   \n",
       "3  2021-12-26 23:59:48+00:00  1475255055980843008     StagnoAmanda   \n",
       "4  2021-12-26 23:59:48+00:00  1475255053657247748     BenBestDeals   \n",
       "\n",
       "                                               tweet  \n",
       "0  If you are buying shirts on eBay avoid this se...  \n",
       "1  3-in-1 Charging Dock for Phone, Apple Watch &a...  \n",
       "2  Check out BIG DAIRY Milking COW Wall PICTURE*P...  \n",
       "3                         Look what I found on ! via  \n",
       "4  Universal Nutrition Buffered Vitamin C Pills 1...  "
      ]
     },
     "execution_count": 4,
     "metadata": {},
     "output_type": "execute_result"
    }
   ],
   "source": [
    "clean_df = pd.read_csv(\"clean.csv\")\n",
    "clean_df.head()"
   ]
  },
  {
   "cell_type": "markdown",
   "id": "a4d5ce85",
   "metadata": {},
   "source": [
    "We got the cleaned data sets so we are moving to NLP part. We are using huggingface to predict the ratings of Online retailer..."
   ]
  },
  {
   "cell_type": "markdown",
   "id": "5c574908",
   "metadata": {},
   "source": [
    "### Model Building"
   ]
  },
  {
   "cell_type": "code",
   "execution_count": 5,
   "id": "2a46ce5d",
   "metadata": {},
   "outputs": [],
   "source": [
    "from transformers import AutoTokenizer, AutoModelForSequenceClassification\n",
    "import torch\n",
    "import requests\n",
    "from bs4 import BeautifulSoup\n",
    "import re"
   ]
  },
  {
   "cell_type": "code",
   "execution_count": 6,
   "id": "eb72962e",
   "metadata": {},
   "outputs": [],
   "source": [
    "tokenizer = AutoTokenizer.from_pretrained('nlptown/bert-base-multilingual-uncased-sentiment')\n",
    "\n",
    "model = AutoModelForSequenceClassification.from_pretrained('nlptown/bert-base-multilingual-uncased-sentiment')"
   ]
  },
  {
   "cell_type": "code",
   "execution_count": 7,
   "id": "03a06fec",
   "metadata": {},
   "outputs": [],
   "source": [
    "tokens = tokenizer.encode('It was good but couldve been better. Great', return_tensors='pt')\n",
    "result = model(tokens)"
   ]
  },
  {
   "cell_type": "code",
   "execution_count": 8,
   "id": "e1411375",
   "metadata": {},
   "outputs": [
    {
     "data": {
      "text/plain": [
       "tensor([[-2.7768, -1.2353,  1.4419,  1.9804,  0.4584]],\n",
       "       grad_fn=<AddmmBackward>)"
      ]
     },
     "execution_count": 8,
     "metadata": {},
     "output_type": "execute_result"
    }
   ],
   "source": [
    "result.logits"
   ]
  },
  {
   "cell_type": "code",
   "execution_count": 9,
   "id": "760014eb",
   "metadata": {},
   "outputs": [
    {
     "data": {
      "text/plain": [
       "4"
      ]
     },
     "execution_count": 9,
     "metadata": {},
     "output_type": "execute_result"
    }
   ],
   "source": [
    "int(torch.argmax(result.logits))+1"
   ]
  },
  {
   "cell_type": "markdown",
   "id": "14a63bec",
   "metadata": {},
   "source": [
    "Creating to function call the model.."
   ]
  },
  {
   "cell_type": "code",
   "execution_count": 10,
   "id": "25a22881",
   "metadata": {},
   "outputs": [],
   "source": [
    "def sentiment_score(tweet):\n",
    "    tokens = tokenizer.encode(tweet, return_tensors='pt')\n",
    "    result = model(tokens)\n",
    "    return int(torch.argmax(result.logits))+1"
   ]
  },
  {
   "cell_type": "code",
   "execution_count": 11,
   "id": "138a0cd4",
   "metadata": {},
   "outputs": [
    {
     "data": {
      "text/plain": [
       "\"If you are buying shirts on eBay avoid this seller, finally refunded me after trying to avoid the return. Selling fake 'match worns' etc. Avoid, avoid, avoid. Tried to offer replacement shirts but only offered one shirt, can't believe it's sorted. The hunt continues for this one.\""
      ]
     },
     "execution_count": 11,
     "metadata": {},
     "output_type": "execute_result"
    }
   ],
   "source": [
    "clean_df[\"tweet\"].iloc[0]"
   ]
  },
  {
   "cell_type": "code",
   "execution_count": 12,
   "id": "f67627ee",
   "metadata": {},
   "outputs": [
    {
     "data": {
      "text/plain": [
       "1"
      ]
     },
     "execution_count": 12,
     "metadata": {},
     "output_type": "execute_result"
    }
   ],
   "source": [
    "sentiment_score(clean_df[\"tweet\"].iloc[0])"
   ]
  },
  {
   "cell_type": "code",
   "execution_count": 13,
   "id": "713569c5",
   "metadata": {},
   "outputs": [
    {
     "data": {
      "text/plain": [
       "Datetime      0\n",
       "Tweet Id      0\n",
       "Name          0\n",
       "tweet       196\n",
       "dtype: int64"
      ]
     },
     "execution_count": 13,
     "metadata": {},
     "output_type": "execute_result"
    }
   ],
   "source": [
    "clean_df.isna().sum()"
   ]
  },
  {
   "cell_type": "code",
   "execution_count": 14,
   "id": "11890501",
   "metadata": {},
   "outputs": [],
   "source": [
    "clean_df.dropna(inplace=True)"
   ]
  },
  {
   "cell_type": "code",
   "execution_count": 15,
   "id": "8b0a1c11",
   "metadata": {},
   "outputs": [
    {
     "data": {
      "text/plain": [
       "Datetime    0\n",
       "Tweet Id    0\n",
       "Name        0\n",
       "tweet       0\n",
       "dtype: int64"
      ]
     },
     "execution_count": 15,
     "metadata": {},
     "output_type": "execute_result"
    }
   ],
   "source": [
    "clean_df.isna().sum()"
   ]
  },
  {
   "cell_type": "code",
   "execution_count": 16,
   "id": "ce7d8a1e",
   "metadata": {},
   "outputs": [],
   "source": [
    "clean_df[\"sentiment\"] = clean_df[\"tweet\"].apply(sentiment_score)"
   ]
  },
  {
   "cell_type": "code",
   "execution_count": 17,
   "id": "d6bcc3f0",
   "metadata": {},
   "outputs": [
    {
     "data": {
      "text/html": [
       "<div>\n",
       "<style scoped>\n",
       "    .dataframe tbody tr th:only-of-type {\n",
       "        vertical-align: middle;\n",
       "    }\n",
       "\n",
       "    .dataframe tbody tr th {\n",
       "        vertical-align: top;\n",
       "    }\n",
       "\n",
       "    .dataframe thead th {\n",
       "        text-align: right;\n",
       "    }\n",
       "</style>\n",
       "<table border=\"1\" class=\"dataframe\">\n",
       "  <thead>\n",
       "    <tr style=\"text-align: right;\">\n",
       "      <th></th>\n",
       "      <th>Datetime</th>\n",
       "      <th>Tweet Id</th>\n",
       "      <th>Name</th>\n",
       "      <th>tweet</th>\n",
       "      <th>sentiment</th>\n",
       "    </tr>\n",
       "  </thead>\n",
       "  <tbody>\n",
       "    <tr>\n",
       "      <th>0</th>\n",
       "      <td>2021-12-26 23:59:58+00:00</td>\n",
       "      <td>1475255097483579402</td>\n",
       "      <td>JSOH13597</td>\n",
       "      <td>If you are buying shirts on eBay avoid this se...</td>\n",
       "      <td>1</td>\n",
       "    </tr>\n",
       "    <tr>\n",
       "      <th>1</th>\n",
       "      <td>2021-12-26 23:59:58+00:00</td>\n",
       "      <td>1475255095730348032</td>\n",
       "      <td>SACellPhonesPro</td>\n",
       "      <td>3-in-1 Charging Dock for Phone, Apple Watch &amp;a...</td>\n",
       "      <td>5</td>\n",
       "    </tr>\n",
       "    <tr>\n",
       "      <th>2</th>\n",
       "      <td>2021-12-26 23:59:54+00:00</td>\n",
       "      <td>1475255078537863171</td>\n",
       "      <td>primitivebowls</td>\n",
       "      <td>Check out BIG DAIRY Milking COW Wall PICTURE*P...</td>\n",
       "      <td>4</td>\n",
       "    </tr>\n",
       "    <tr>\n",
       "      <th>3</th>\n",
       "      <td>2021-12-26 23:59:48+00:00</td>\n",
       "      <td>1475255055980843008</td>\n",
       "      <td>StagnoAmanda</td>\n",
       "      <td>Look what I found on ! via</td>\n",
       "      <td>5</td>\n",
       "    </tr>\n",
       "    <tr>\n",
       "      <th>4</th>\n",
       "      <td>2021-12-26 23:59:48+00:00</td>\n",
       "      <td>1475255053657247748</td>\n",
       "      <td>BenBestDeals</td>\n",
       "      <td>Universal Nutrition Buffered Vitamin C Pills 1...</td>\n",
       "      <td>5</td>\n",
       "    </tr>\n",
       "  </tbody>\n",
       "</table>\n",
       "</div>"
      ],
      "text/plain": [
       "                    Datetime             Tweet Id             Name  \\\n",
       "0  2021-12-26 23:59:58+00:00  1475255097483579402        JSOH13597   \n",
       "1  2021-12-26 23:59:58+00:00  1475255095730348032  SACellPhonesPro   \n",
       "2  2021-12-26 23:59:54+00:00  1475255078537863171   primitivebowls   \n",
       "3  2021-12-26 23:59:48+00:00  1475255055980843008     StagnoAmanda   \n",
       "4  2021-12-26 23:59:48+00:00  1475255053657247748     BenBestDeals   \n",
       "\n",
       "                                               tweet  sentiment  \n",
       "0  If you are buying shirts on eBay avoid this se...          1  \n",
       "1  3-in-1 Charging Dock for Phone, Apple Watch &a...          5  \n",
       "2  Check out BIG DAIRY Milking COW Wall PICTURE*P...          4  \n",
       "3                         Look what I found on ! via          5  \n",
       "4  Universal Nutrition Buffered Vitamin C Pills 1...          5  "
      ]
     },
     "execution_count": 17,
     "metadata": {},
     "output_type": "execute_result"
    }
   ],
   "source": [
    "clean_df.head()"
   ]
  },
  {
   "cell_type": "code",
   "execution_count": 18,
   "id": "e7caca89",
   "metadata": {},
   "outputs": [
    {
     "data": {
      "text/plain": [
       "5    11821\n",
       "1     9217\n",
       "2     3856\n",
       "3     3048\n",
       "4     2844\n",
       "Name: sentiment, dtype: int64"
      ]
     },
     "execution_count": 18,
     "metadata": {},
     "output_type": "execute_result"
    }
   ],
   "source": [
    "clean_df[\"sentiment\"].value_counts()"
   ]
  },
  {
   "cell_type": "markdown",
   "id": "886bf315",
   "metadata": {},
   "source": [
    "### Data visualization"
   ]
  },
  {
   "cell_type": "code",
   "execution_count": 19,
   "id": "3414c5ad",
   "metadata": {},
   "outputs": [],
   "source": [
    "import plotly.express as px\n",
    "import matplotlib.pyplot as plt\n",
    "%matplotlib inline"
   ]
  },
  {
   "cell_type": "code",
   "execution_count": 22,
   "id": "73738367",
   "metadata": {},
   "outputs": [],
   "source": [
    "clean_df.to_csv('Sentiment_added.csv', index = False)"
   ]
  }
 ],
 "metadata": {
  "kernelspec": {
   "display_name": "Python 3",
   "language": "python",
   "name": "python3"
  },
  "language_info": {
   "codemirror_mode": {
    "name": "ipython",
    "version": 3
   },
   "file_extension": ".py",
   "mimetype": "text/x-python",
   "name": "python",
   "nbconvert_exporter": "python",
   "pygments_lexer": "ipython3",
   "version": "3.8.8"
  }
 },
 "nbformat": 4,
 "nbformat_minor": 5
}
